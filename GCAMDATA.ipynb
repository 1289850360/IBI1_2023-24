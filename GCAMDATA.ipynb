{
 "cells": [
  {
   "cell_type": "code",
   "execution_count": 1,
   "metadata": {},
   "outputs": [],
   "source": [
    "from pandas import ExcelWriter"
   ]
  },
  {
   "cell_type": "code",
   "execution_count": 2,
   "metadata": {},
   "outputs": [],
   "source": [
    "import gcamreader\n",
    "import os"
   ]
  },
  {
   "cell_type": "code",
   "execution_count": 3,
   "metadata": {},
   "outputs": [
    {
     "data": {
      "text/plain": [
       "'C:\\\\Users\\\\pengk'"
      ]
     },
     "execution_count": 3,
     "metadata": {},
     "output_type": "execute_result"
    }
   ],
   "source": [
    "os.getcwd()"
   ]
  },
  {
   "cell_type": "code",
   "execution_count": 4,
   "metadata": {},
   "outputs": [],
   "source": [
    "os.chdir(r\"D:\\gcam-v5.4-Windows-Release-Package\" )"
   ]
  },
  {
   "cell_type": "code",
   "execution_count": 5,
   "metadata": {},
   "outputs": [
    {
     "name": "stdout",
     "output_type": "stream",
     "text": [
      "Database scenarios: GCAM_SSP5\n"
     ]
    }
   ],
   "source": [
    "dbpath=\"output\"\n",
    "dbfile=\"database_basexdb\"\n",
    "conn=gcamreader.LocalDBConn(dbpath,dbfile)"
   ]
  },
  {
   "cell_type": "code",
   "execution_count": 6,
   "metadata": {},
   "outputs": [],
   "source": [
    "queries=gcamreader.parse_batch_query(os.path.join(dbpath,\"SDG-queries.xml\"))"
   ]
  },
  {
   "cell_type": "code",
   "execution_count": 7,
   "metadata": {},
   "outputs": [
    {
     "data": {
      "text/plain": [
       "['elec water withdrawals by gen tech and cooling tech',\n",
       " 'water withdrawals by region',\n",
       " 'elec water consumption by gen tech and cooling tech',\n",
       " 'water consumption by region',\n",
       " 'CO2 emissions by region',\n",
       " 'CO2 emissions by subsector',\n",
       " 'nonCO2 emissions by region',\n",
       " 'nonCO2 emissions by subsector',\n",
       " 'elec gen by region (incl CHP)',\n",
       " 'elec gen by subsector',\n",
       " 'elec energy input by elec gen tech',\n",
       " 'GDP MER by region',\n",
       " 'GDP per capita MER by region',\n",
       " 'Population by region']"
      ]
     },
     "execution_count": 7,
     "metadata": {},
     "output_type": "execute_result"
    }
   ],
   "source": [
    "[q.title for q in queries]"
   ]
  },
  {
   "cell_type": "code",
   "execution_count": 9,
   "metadata": {},
   "outputs": [],
   "source": [
    "#water_withdrawals_tech = conn.runQuery(queries[0],'GCAM_SSP2')\n",
    "#water_withdrawals_region = conn.runQuery(queries[1],'GCAM_SSP2')\n",
    "#water_consumption_tech = conn.runQuery(queries[2],'GCAM_SSP2')\n",
    "#water_consumption_region = conn.runQuery(queries[3],'GCAM_SSP2')\n",
    "#CO2_region = conn.runQuery(queries[4],'GCAM_SSP2')\n",
    "#CO2_sector = conn.runQuery(queries[5],'GCAM_SSP2')\n",
    "nonCO2_region = conn.runQuery(queries[6],'GCAM_SSP5')\n",
    "#nonCO2_sector = conn.runQuery(queries[7],'GCAM_SSP1')\n",
    "#elec_region = conn.runQuery(queries[8],'GCAM_SSP2')\n",
    "#elec_sector = conn.runQuery(queries[9],'GCAM_SSP2')\n",
    "#elec_input = conn.runQuery(queries[10],'GCAM_SSP2')\n",
    "#GDP_MER = conn.runQuery(queries[11],'GCAM_SSP2')\n",
    "#GDP_capita = conn.runQuery(queries[12],'GCAM_SSP2')\n",
    "#population = conn.runQuery(queries[13],'GCAM_SSP2')"
   ]
  },
  {
   "cell_type": "code",
   "execution_count": 9,
   "metadata": {},
   "outputs": [],
   "source": [
    "#water_withdrawals_tech.to_excel(r\"E:\\③个人研究集\\全球电力转型对于可持续发展目标的影响\\2022.10版本\\GCAM部分数据模拟\\SSP2+RCP6.0\\water_withdrawals_tech.xlsx\")\n",
    "#water_withdrawals_region.to_excel(r\"E:\\③个人研究集\\全球电力转型对于可持续发展目标的影响\\2022.10版本\\GCAM部分数据模拟\\SSP2+RCP6.0\\water_withdrawals_region.xlsx\")\n",
    "#water_consumption_tech.to_excel(r\"E:\\③个人研究集\\全球电力转型对于可持续发展目标的影响\\2022.10版本\\GCAM部分数据模拟\\SSP2+RCP6.0\\water_consumption_tech.xlsx\")\n",
    "#water_consumption_region.to_excel(r\"E:\\③个人研究集\\全球电力转型对于可持续发展目标的影响\\2022.10版本\\GCAM部分数据模拟\\SSP2+RCP6.0\\water_consumption_region.xlsx\")\n",
    "#CO2_region.to_excel(r\"E:\\③个人研究集\\全球电力转型对于可持续发展目标的影响\\2022.10版本\\GCAM部分数据模拟\\SSP2+RCP6.0\\CO2_region.xlsx\")\n",
    "#CO2_sector.to_excel(r\"E:\\③个人研究集\\全球电力转型对于可持续发展目标的影响\\2022.10版本\\GCAM部分数据模拟\\SSP2+RCP6.0\\CO2_sector.xlsx\")"
   ]
  },
  {
   "cell_type": "code",
   "execution_count": 10,
   "metadata": {},
   "outputs": [],
   "source": [
    "#elec_input.to_excel(r\"E:\\③个人研究集\\全球电力转型对于可持续发展目标的影响\\2022.10版本\\GCAM部分数据模拟\\SSP2+RCP6.0\\elec_input.xlsx\")\n",
    "#GDP_MER.to_excel(r\"E:\\③个人研究集\\全球电力转型对于可持续发展目标的影响\\2022.10版本\\GCAM部分数据模拟\\SSP2+RCP6.0\\GDP_MER.xlsx\")\n",
    "#GDP_capita.to_excel(r\"E:\\③个人研究集\\全球电力转型对于可持续发展目标的影响\\2022.10版本\\GCAM部分数据模拟\\SSP2+RCP6.0\\GDP_capita.xlsx\")\n",
    "#population.to_excel(r\"E:\\③个人研究集\\全球电力转型对于可持续发展目标的影响\\2022.10版本\\GCAM部分数据模拟\\SSP2+RCP6.0\\population.xlsx\")"
   ]
  },
  {
   "cell_type": "code",
   "execution_count": 11,
   "metadata": {},
   "outputs": [],
   "source": [
    "#elec_region.to_excel(r\"E:\\③个人研究集\\全球电力转型对于可持续发展目标的影响\\2022.10版本\\GCAM部分数据模拟\\SSP2+RCP6.0\\elec_region.xlsx\")\n",
    "#elec_sector.to_excel(r\"E:\\③个人研究集\\全球电力转型对于可持续发展目标的影响\\2022.10版本\\GCAM部分数据模拟\\SSP2+RCP6.0\\elec_sector.xlsx\")"
   ]
  },
  {
   "cell_type": "code",
   "execution_count": 12,
   "metadata": {},
   "outputs": [],
   "source": [
    "nonCO2_region.to_excel(r\"E:\\③个人研究集\\全球电力转型对于可持续发展目标的影响\\2022.10版本\\GCAM部分数据模拟\\SSP5+RCP4.5\\nonCO2_region.xlsx\")\n",
    "#nonCO2_sector.to_excel(r\"E:\\③个人研究集\\全球电力转型对于可持续发展目标的影响\\2022.10版本\\GCAM部分数据模拟\\SSP5+RCP2.6\\nonCO2_sector.xlsx\")"
   ]
  },
  {
   "cell_type": "code",
   "execution_count": null,
   "metadata": {},
   "outputs": [],
   "source": []
  }
 ],
 "metadata": {
  "kernelspec": {
   "display_name": "Python 3 (ipykernel)",
   "language": "python",
   "name": "python3"
  },
  "language_info": {
   "codemirror_mode": {
    "name": "ipython",
    "version": 3
   },
   "file_extension": ".py",
   "mimetype": "text/x-python",
   "name": "python",
   "nbconvert_exporter": "python",
   "pygments_lexer": "ipython3",
   "version": "3.7.13"
  }
 },
 "nbformat": 4,
 "nbformat_minor": 2
}
